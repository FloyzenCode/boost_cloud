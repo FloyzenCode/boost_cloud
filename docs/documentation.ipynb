{
 "cells": [
  {
   "attachments": {},
   "cell_type": "markdown",
   "metadata": {},
   "source": [
    "<div align=\"center\"><strong><h1 style=\"font-weight: 800\">Documentation</h1></strong></div>\n",
    "\n",
    "---"
   ]
  },
  {
   "attachments": {},
   "cell_type": "markdown",
   "metadata": {},
   "source": [
    "***EN:***\n",
    "---\n",
    "It is recommended to check the boost library path inside CMakeLists.txt and if necessary change to your correct path\n",
    "\n",
    "**How use?:**\n",
    "You can build it yourself or through shell scripts.\n",
    "- Shell\n",
    "```shell\n",
    "cd server/scripts\n",
    "bash build.sh\n",
    "```\n",
    "\n",
    "```shell\n",
    "cd client/scripts\n",
    "bash build.sh\n",
    "```\n",
    "\n",
    "- Self-assembly\n",
    "```zsh\n",
    "cd server\n",
    "mkdir build\n",
    "cd build\n",
    "cmake ..\n",
    "make\n",
    "./server\n",
    "```\n",
    "\n",
    "```zsh\n",
    "cd client\n",
    "mkdir build\n",
    "cd build\n",
    "cmake ..\n",
    "make\n",
    "./client\n",
    "```"
   ]
  },
  {
   "attachments": {},
   "cell_type": "markdown",
   "metadata": {},
   "source": [
    "---"
   ]
  },
  {
   "attachments": {},
   "cell_type": "markdown",
   "metadata": {},
   "source": [
    "***RU:***\n",
    "---\n",
    "Рекомендуется проверить путь к библиотеке повышения внутри CMakeLists.txt и при необходимости изменить его на правильный путь.\n",
    "\n",
    "**How use?:**\n",
    "Вы можете собрать проект самостоятельно или с помощью Shell-скриптов.\n",
    "- Shell\n",
    "```shell\n",
    "cd server/scripts\n",
    "bash build.sh\n",
    "```\n",
    "\n",
    "```shell\n",
    "cd client/scripts\n",
    "bash build.sh\n",
    "```\n",
    "\n",
    "- Self-assembly\n",
    "```zsh\n",
    "cd server\n",
    "mkdir build\n",
    "cd build\n",
    "cmake ..\n",
    "make\n",
    "./server\n",
    "```\n",
    "\n",
    "```zsh\n",
    "cd client\n",
    "mkdir build\n",
    "cd build\n",
    "cmake ..\n",
    "make\n",
    "./client\n",
    "```"
   ]
  },
  {
   "attachments": {},
   "cell_type": "markdown",
   "metadata": {},
   "source": [
    "---"
   ]
  },
  {
   "attachments": {},
   "cell_type": "markdown",
   "metadata": {},
   "source": [
    "**This project is at the development stage, in the future there will be better functionality and the quality will become appropriate!** </br></br>\n",
    "**Данный проект находится на стадии разработки, в будущем функционал будет лучше и качество станет соответствующим**"
   ]
  },
  {
   "attachments": {},
   "cell_type": "markdown",
   "metadata": {},
   "source": [
    "---"
   ]
  }
 ],
 "metadata": {
  "language_info": {
   "name": "python"
  },
  "orig_nbformat": 4
 },
 "nbformat": 4,
 "nbformat_minor": 2
}
